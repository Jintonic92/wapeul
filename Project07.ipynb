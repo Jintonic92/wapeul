{
  "nbformat": 4,
  "nbformat_minor": 0,
  "metadata": {
    "colab": {
      "name": "Project07.ipynb",
      "provenance": [],
      "collapsed_sections": [],
      "mount_file_id": "1IccviCXTbQ7o6l3QYfaRIgjE_4pstpF8",
      "authorship_tag": "ABX9TyPwsfpfHwOf8ho4AJPSad9F",
      "include_colab_link": true
    },
    "kernelspec": {
      "name": "python3",
      "display_name": "Python 3"
    },
    "language_info": {
      "name": "python"
    }
  },
  "cells": [
    {
      "cell_type": "markdown",
      "metadata": {
        "id": "view-in-github",
        "colab_type": "text"
      },
      "source": [
        "<a href=\"https://colab.research.google.com/github/Jintonic92/Waffleproject/blob/main/Project07.ipynb\" target=\"_parent\"><img src=\"https://colab.research.google.com/assets/colab-badge.svg\" alt=\"Open In Colab\"/></a>"
      ]
    },
    {
      "cell_type": "markdown",
      "source": [
        "# Waffle project "
      ],
      "metadata": {
        "id": "z6a9bZGZDcMo"
      }
    },
    {
      "cell_type": "markdown",
      "source": [
        "## 프로젝트 주제 "
      ],
      "metadata": {
        "id": "aSk-eIJZKSpN"
      }
    },
    {
      "cell_type": "markdown",
      "source": [
        "- 프로젝트 이론 \n",
        "- 데이터에 대한 상세 개념 정리 "
      ],
      "metadata": {
        "id": "HuGExk37KZxe"
      }
    },
    {
      "cell_type": "markdown",
      "source": [
        "## 1. 데이터 분석 "
      ],
      "metadata": {
        "id": "79pUN4zjJE_D"
      }
    },
    {
      "cell_type": "markdown",
      "source": [
        "- 타겟 데이터 분포 확인 (r)\n",
        "- FFT 데이터 분포 확인(r)\n",
        "- 이상치 확인 plot(r)\n",
        "- 상관관계 분석"
      ],
      "metadata": {
        "id": "RD0_NEUsJOxp"
      }
    },
    {
      "cell_type": "code",
      "source": [
        "import pandas as pd\n",
        "import numpy as np \n",
        "import matplotlib.pyplot as plt\n",
        "import seaborn as sns"
      ],
      "metadata": {
        "id": "wDCd2DQOM6t3"
      },
      "execution_count": 13,
      "outputs": []
    },
    {
      "cell_type": "code",
      "source": [
        "# 구글드라이브 연동\n",
        "from google.colab import drive\n",
        "drive.mount('/content/drive')"
      ],
      "metadata": {
        "colab": {
          "base_uri": "https://localhost:8080/"
        },
        "id": "y2rUUpCHKrLT",
        "outputId": "3a7b1ec5-cc01-4593-fa7f-36bc6ad4b2fa"
      },
      "execution_count": 14,
      "outputs": [
        {
          "output_type": "stream",
          "name": "stdout",
          "text": [
            "Drive already mounted at /content/drive; to attempt to forcibly remount, call drive.mount(\"/content/drive\", force_remount=True).\n"
          ]
        }
      ]
    },
    {
      "cell_type": "code",
      "source": [
        "# 데이터 불러오기 \n",
        "data_chc_sit = pd.read_csv('/content/drive/MyDrive/Codestates AI06/project07/log_20200909110309_chc_0.5_sit_none.csv')\n",
        "data_ksj_lie = pd.read_csv('/content/drive/MyDrive/Codestates AI06/project07/log_20201111155643_ksj_0.5_lie_none.csv')\n",
        "data_les_sleep = pd.read_csv('/content/drive/MyDrive/Codestates AI06/project07/log_20210811104835_les_1.0_sleep.csv')\n",
        "data_sjy_lie = pd.read_csv('/content/drive/MyDrive/Codestates AI06/project07/log_20210812111825_sjy_1.0_lie_none.csv')\n",
        "data_kdu_lie = pd.read_csv('/content/drive/MyDrive/Codestates AI06/project07/log_20210818153244_kdu_1.0_lie_none.csv')\n",
        "data_kdu_lie2 = pd.read_csv('/content/drive/MyDrive/Codestates AI06/project07/log_20210824111504_kdu_1.0_lie_none.csv')\n",
        "data_chc_lie = pd.read_csv('/content/drive/MyDrive/Codestates AI06/project07/log_20210824121025_chc_0.5_lie_none.csv')\n",
        "data_kdu_lie3a = pd.read_csv('/content/drive/MyDrive/Codestates AI06/project07/log_20210824141813_kdu_1.0_lie_acryl.csv') #반투명한\n",
        "data_kdu_lie4o = pd.read_csv('/content/drive/MyDrive/Codestates AI06/project07/log_20210824141815_kdu_1.0_lie_opaque.csv') #불투명한\n",
        "data_gmk_lie = pd.read_csv('/content/drive/MyDrive/Codestates AI06/project07/log_20210906175352_1.0_lie_gmk.csv')\n",
        "data_kdu_lie5a = pd.read_csv('/content/drive/MyDrive/Codestates AI06/project07/log_20210908142718_kdu_1.0_lie_acryl111.csv')"
      ],
      "metadata": {
        "id": "FcXmZJYNKro8"
      },
      "execution_count": 15,
      "outputs": []
    },
    {
      "cell_type": "markdown",
      "source": [
        "분석) \n",
        "개인 총 6명 (chc, ksj, les, sjy, kdu, gmak)\n",
        "\n",
        "자세 총 3개 (sit, lie, sleep)\n",
        "\n",
        "거리/자세 총 4개 (0.5_sit, 0.5/1.0_lie, 1.0_sleep) \n",
        "\n",
        "=> 개인 6명을 모두 아우를 수 있는 거리/자세 총 4가지 모델 만들 수 있을 듯 "
      ],
      "metadata": {
        "id": "PMtpqQp_QGZV"
      }
    },
    {
      "cell_type": "markdown",
      "source": [
        "여기서 할 수 있는 것\n",
        "1. chc data sit vs lie (개인의 자세)\n",
        "2. kdu lie data 5개가 있음 이 데이터간의 차이 알아보기\n",
        "3. sleep vs lie vs sit 차이\n",
        "\n",
        "=> 이를 확인하기 위해서는 각 데이터의 target 분포 확인 필요 "
      ],
      "metadata": {
        "id": "U75HP7KPOaLc"
      }
    },
    {
      "cell_type": "code",
      "source": [
        "data_chc_sit.head(-30)"
      ],
      "metadata": {
        "colab": {
          "base_uri": "https://localhost:8080/",
          "height": 505
        },
        "id": "6bWBap5cKr0r",
        "outputId": "f87ccaae-1dc8-4781-83e4-1f1f21a41587"
      },
      "execution_count": 16,
      "outputs": [
        {
          "output_type": "execute_result",
          "data": {
            "text/html": [
              "\n",
              "  <div id=\"df-f6ceed7f-504c-4264-97dd-f4b8f39de87d\">\n",
              "    <div class=\"colab-df-container\">\n",
              "      <div>\n",
              "<style scoped>\n",
              "    .dataframe tbody tr th:only-of-type {\n",
              "        vertical-align: middle;\n",
              "    }\n",
              "\n",
              "    .dataframe tbody tr th {\n",
              "        vertical-align: top;\n",
              "    }\n",
              "\n",
              "    .dataframe thead th {\n",
              "        text-align: right;\n",
              "    }\n",
              "</style>\n",
              "<table border=\"1\" class=\"dataframe\">\n",
              "  <thead>\n",
              "    <tr style=\"text-align: right;\">\n",
              "      <th></th>\n",
              "      <th>Unnamed: 0</th>\n",
              "      <th>ecg</th>\n",
              "      <th>bpm</th>\n",
              "      <th>bin-2</th>\n",
              "      <th>bin-1</th>\n",
              "      <th>bin0</th>\n",
              "      <th>bin1</th>\n",
              "      <th>bin2</th>\n",
              "      <th>512fft</th>\n",
              "      <th>400fft</th>\n",
              "      <th>300fft</th>\n",
              "      <th>200fft</th>\n",
              "      <th>100fft</th>\n",
              "      <th>70fft</th>\n",
              "      <th>bin_var</th>\n",
              "      <th>motion_energy</th>\n",
              "    </tr>\n",
              "  </thead>\n",
              "  <tbody>\n",
              "    <tr>\n",
              "      <th>0</th>\n",
              "      <td>0</td>\n",
              "      <td>101.298701</td>\n",
              "      <td>86.953125</td>\n",
              "      <td>0.000000</td>\n",
              "      <td>0.000000</td>\n",
              "      <td>0.000000</td>\n",
              "      <td>0.000000</td>\n",
              "      <td>0.000000</td>\n",
              "      <td>0.000000</td>\n",
              "      <td>0.000000</td>\n",
              "      <td>0.000000</td>\n",
              "      <td>0.000000</td>\n",
              "      <td>0.000000</td>\n",
              "      <td>0.000000</td>\n",
              "      <td>0.0000</td>\n",
              "      <td>0.000000</td>\n",
              "    </tr>\n",
              "    <tr>\n",
              "      <th>1</th>\n",
              "      <td>1</td>\n",
              "      <td>121.875000</td>\n",
              "      <td>86.989083</td>\n",
              "      <td>0.000000</td>\n",
              "      <td>0.000000</td>\n",
              "      <td>0.000000</td>\n",
              "      <td>0.000000</td>\n",
              "      <td>0.000000</td>\n",
              "      <td>0.000000</td>\n",
              "      <td>0.000000</td>\n",
              "      <td>0.000000</td>\n",
              "      <td>0.000000</td>\n",
              "      <td>0.000000</td>\n",
              "      <td>0.000000</td>\n",
              "      <td>0.0000</td>\n",
              "      <td>0.000000</td>\n",
              "    </tr>\n",
              "    <tr>\n",
              "      <th>2</th>\n",
              "      <td>2</td>\n",
              "      <td>121.875000</td>\n",
              "      <td>87.025041</td>\n",
              "      <td>0.000000</td>\n",
              "      <td>0.000000</td>\n",
              "      <td>0.000000</td>\n",
              "      <td>0.000000</td>\n",
              "      <td>0.000000</td>\n",
              "      <td>0.000000</td>\n",
              "      <td>0.000000</td>\n",
              "      <td>0.000000</td>\n",
              "      <td>0.000000</td>\n",
              "      <td>0.000000</td>\n",
              "      <td>0.000000</td>\n",
              "      <td>0.0000</td>\n",
              "      <td>0.000000</td>\n",
              "    </tr>\n",
              "    <tr>\n",
              "      <th>3</th>\n",
              "      <td>3</td>\n",
              "      <td>121.875000</td>\n",
              "      <td>87.061000</td>\n",
              "      <td>0.000000</td>\n",
              "      <td>0.000000</td>\n",
              "      <td>0.000000</td>\n",
              "      <td>0.000000</td>\n",
              "      <td>0.000000</td>\n",
              "      <td>0.000000</td>\n",
              "      <td>0.000000</td>\n",
              "      <td>0.000000</td>\n",
              "      <td>0.000000</td>\n",
              "      <td>0.000000</td>\n",
              "      <td>0.000000</td>\n",
              "      <td>0.0000</td>\n",
              "      <td>0.000000</td>\n",
              "    </tr>\n",
              "    <tr>\n",
              "      <th>4</th>\n",
              "      <td>4</td>\n",
              "      <td>121.875000</td>\n",
              "      <td>87.096958</td>\n",
              "      <td>0.000000</td>\n",
              "      <td>0.000000</td>\n",
              "      <td>0.000000</td>\n",
              "      <td>0.000000</td>\n",
              "      <td>0.000000</td>\n",
              "      <td>0.000000</td>\n",
              "      <td>0.000000</td>\n",
              "      <td>0.000000</td>\n",
              "      <td>0.000000</td>\n",
              "      <td>0.000000</td>\n",
              "      <td>0.000000</td>\n",
              "      <td>0.0000</td>\n",
              "      <td>0.000000</td>\n",
              "    </tr>\n",
              "    <tr>\n",
              "      <th>...</th>\n",
              "      <td>...</td>\n",
              "      <td>...</td>\n",
              "      <td>...</td>\n",
              "      <td>...</td>\n",
              "      <td>...</td>\n",
              "      <td>...</td>\n",
              "      <td>...</td>\n",
              "      <td>...</td>\n",
              "      <td>...</td>\n",
              "      <td>...</td>\n",
              "      <td>...</td>\n",
              "      <td>...</td>\n",
              "      <td>...</td>\n",
              "      <td>...</td>\n",
              "      <td>...</td>\n",
              "      <td>...</td>\n",
              "    </tr>\n",
              "    <tr>\n",
              "      <th>23965</th>\n",
              "      <td>23965</td>\n",
              "      <td>91.031941</td>\n",
              "      <td>89.765625</td>\n",
              "      <td>90.234375</td>\n",
              "      <td>90.234375</td>\n",
              "      <td>83.203125</td>\n",
              "      <td>90.234375</td>\n",
              "      <td>90.234375</td>\n",
              "      <td>83.203125</td>\n",
              "      <td>82.617188</td>\n",
              "      <td>91.992188</td>\n",
              "      <td>83.203125</td>\n",
              "      <td>85.546875</td>\n",
              "      <td>83.203125</td>\n",
              "      <td>0.2400</td>\n",
              "      <td>0.287824</td>\n",
              "    </tr>\n",
              "    <tr>\n",
              "      <th>23966</th>\n",
              "      <td>23966</td>\n",
              "      <td>91.031941</td>\n",
              "      <td>89.765625</td>\n",
              "      <td>90.234375</td>\n",
              "      <td>90.234375</td>\n",
              "      <td>83.203125</td>\n",
              "      <td>90.234375</td>\n",
              "      <td>90.234375</td>\n",
              "      <td>83.203125</td>\n",
              "      <td>81.445312</td>\n",
              "      <td>91.406250</td>\n",
              "      <td>83.203125</td>\n",
              "      <td>85.546875</td>\n",
              "      <td>83.203125</td>\n",
              "      <td>0.2275</td>\n",
              "      <td>0.287824</td>\n",
              "    </tr>\n",
              "    <tr>\n",
              "      <th>23967</th>\n",
              "      <td>23967</td>\n",
              "      <td>91.031941</td>\n",
              "      <td>89.765625</td>\n",
              "      <td>90.234375</td>\n",
              "      <td>90.234375</td>\n",
              "      <td>83.203125</td>\n",
              "      <td>90.234375</td>\n",
              "      <td>90.234375</td>\n",
              "      <td>83.203125</td>\n",
              "      <td>80.859375</td>\n",
              "      <td>90.820312</td>\n",
              "      <td>83.203125</td>\n",
              "      <td>85.546875</td>\n",
              "      <td>83.203125</td>\n",
              "      <td>0.2100</td>\n",
              "      <td>0.287824</td>\n",
              "    </tr>\n",
              "    <tr>\n",
              "      <th>23968</th>\n",
              "      <td>23968</td>\n",
              "      <td>91.031941</td>\n",
              "      <td>89.765625</td>\n",
              "      <td>90.234375</td>\n",
              "      <td>90.234375</td>\n",
              "      <td>83.203125</td>\n",
              "      <td>90.234375</td>\n",
              "      <td>90.234375</td>\n",
              "      <td>83.203125</td>\n",
              "      <td>40.429688</td>\n",
              "      <td>90.234375</td>\n",
              "      <td>83.203125</td>\n",
              "      <td>85.546875</td>\n",
              "      <td>83.203125</td>\n",
              "      <td>0.1875</td>\n",
              "      <td>0.287824</td>\n",
              "    </tr>\n",
              "    <tr>\n",
              "      <th>23969</th>\n",
              "      <td>23969</td>\n",
              "      <td>91.031941</td>\n",
              "      <td>89.765625</td>\n",
              "      <td>90.234375</td>\n",
              "      <td>90.234375</td>\n",
              "      <td>83.203125</td>\n",
              "      <td>90.234375</td>\n",
              "      <td>90.234375</td>\n",
              "      <td>83.203125</td>\n",
              "      <td>0.000000</td>\n",
              "      <td>90.234375</td>\n",
              "      <td>83.203125</td>\n",
              "      <td>84.960938</td>\n",
              "      <td>83.203125</td>\n",
              "      <td>0.1600</td>\n",
              "      <td>0.287824</td>\n",
              "    </tr>\n",
              "  </tbody>\n",
              "</table>\n",
              "<p>23970 rows × 16 columns</p>\n",
              "</div>\n",
              "      <button class=\"colab-df-convert\" onclick=\"convertToInteractive('df-f6ceed7f-504c-4264-97dd-f4b8f39de87d')\"\n",
              "              title=\"Convert this dataframe to an interactive table.\"\n",
              "              style=\"display:none;\">\n",
              "        \n",
              "  <svg xmlns=\"http://www.w3.org/2000/svg\" height=\"24px\"viewBox=\"0 0 24 24\"\n",
              "       width=\"24px\">\n",
              "    <path d=\"M0 0h24v24H0V0z\" fill=\"none\"/>\n",
              "    <path d=\"M18.56 5.44l.94 2.06.94-2.06 2.06-.94-2.06-.94-.94-2.06-.94 2.06-2.06.94zm-11 1L8.5 8.5l.94-2.06 2.06-.94-2.06-.94L8.5 2.5l-.94 2.06-2.06.94zm10 10l.94 2.06.94-2.06 2.06-.94-2.06-.94-.94-2.06-.94 2.06-2.06.94z\"/><path d=\"M17.41 7.96l-1.37-1.37c-.4-.4-.92-.59-1.43-.59-.52 0-1.04.2-1.43.59L10.3 9.45l-7.72 7.72c-.78.78-.78 2.05 0 2.83L4 21.41c.39.39.9.59 1.41.59.51 0 1.02-.2 1.41-.59l7.78-7.78 2.81-2.81c.8-.78.8-2.07 0-2.86zM5.41 20L4 18.59l7.72-7.72 1.47 1.35L5.41 20z\"/>\n",
              "  </svg>\n",
              "      </button>\n",
              "      \n",
              "  <style>\n",
              "    .colab-df-container {\n",
              "      display:flex;\n",
              "      flex-wrap:wrap;\n",
              "      gap: 12px;\n",
              "    }\n",
              "\n",
              "    .colab-df-convert {\n",
              "      background-color: #E8F0FE;\n",
              "      border: none;\n",
              "      border-radius: 50%;\n",
              "      cursor: pointer;\n",
              "      display: none;\n",
              "      fill: #1967D2;\n",
              "      height: 32px;\n",
              "      padding: 0 0 0 0;\n",
              "      width: 32px;\n",
              "    }\n",
              "\n",
              "    .colab-df-convert:hover {\n",
              "      background-color: #E2EBFA;\n",
              "      box-shadow: 0px 1px 2px rgba(60, 64, 67, 0.3), 0px 1px 3px 1px rgba(60, 64, 67, 0.15);\n",
              "      fill: #174EA6;\n",
              "    }\n",
              "\n",
              "    [theme=dark] .colab-df-convert {\n",
              "      background-color: #3B4455;\n",
              "      fill: #D2E3FC;\n",
              "    }\n",
              "\n",
              "    [theme=dark] .colab-df-convert:hover {\n",
              "      background-color: #434B5C;\n",
              "      box-shadow: 0px 1px 3px 1px rgba(0, 0, 0, 0.15);\n",
              "      filter: drop-shadow(0px 1px 2px rgba(0, 0, 0, 0.3));\n",
              "      fill: #FFFFFF;\n",
              "    }\n",
              "  </style>\n",
              "\n",
              "      <script>\n",
              "        const buttonEl =\n",
              "          document.querySelector('#df-f6ceed7f-504c-4264-97dd-f4b8f39de87d button.colab-df-convert');\n",
              "        buttonEl.style.display =\n",
              "          google.colab.kernel.accessAllowed ? 'block' : 'none';\n",
              "\n",
              "        async function convertToInteractive(key) {\n",
              "          const element = document.querySelector('#df-f6ceed7f-504c-4264-97dd-f4b8f39de87d');\n",
              "          const dataTable =\n",
              "            await google.colab.kernel.invokeFunction('convertToInteractive',\n",
              "                                                     [key], {});\n",
              "          if (!dataTable) return;\n",
              "\n",
              "          const docLinkHtml = 'Like what you see? Visit the ' +\n",
              "            '<a target=\"_blank\" href=https://colab.research.google.com/notebooks/data_table.ipynb>data table notebook</a>'\n",
              "            + ' to learn more about interactive tables.';\n",
              "          element.innerHTML = '';\n",
              "          dataTable['output_type'] = 'display_data';\n",
              "          await google.colab.output.renderOutput(dataTable, element);\n",
              "          const docLink = document.createElement('div');\n",
              "          docLink.innerHTML = docLinkHtml;\n",
              "          element.appendChild(docLink);\n",
              "        }\n",
              "      </script>\n",
              "    </div>\n",
              "  </div>\n",
              "  "
            ],
            "text/plain": [
              "       Unnamed: 0         ecg        bpm  ...      70fft  bin_var  motion_energy\n",
              "0               0  101.298701  86.953125  ...   0.000000   0.0000       0.000000\n",
              "1               1  121.875000  86.989083  ...   0.000000   0.0000       0.000000\n",
              "2               2  121.875000  87.025041  ...   0.000000   0.0000       0.000000\n",
              "3               3  121.875000  87.061000  ...   0.000000   0.0000       0.000000\n",
              "4               4  121.875000  87.096958  ...   0.000000   0.0000       0.000000\n",
              "...           ...         ...        ...  ...        ...      ...            ...\n",
              "23965       23965   91.031941  89.765625  ...  83.203125   0.2400       0.287824\n",
              "23966       23966   91.031941  89.765625  ...  83.203125   0.2275       0.287824\n",
              "23967       23967   91.031941  89.765625  ...  83.203125   0.2100       0.287824\n",
              "23968       23968   91.031941  89.765625  ...  83.203125   0.1875       0.287824\n",
              "23969       23969   91.031941  89.765625  ...  83.203125   0.1600       0.287824\n",
              "\n",
              "[23970 rows x 16 columns]"
            ]
          },
          "metadata": {},
          "execution_count": 16
        }
      ]
    },
    {
      "cell_type": "code",
      "source": [
        "print()\n",
        "# 데이터 불러오기 \n",
        "data_chc_sit \n",
        "data_ksj_lie \n",
        "data_les_sleep \n",
        "data_sjy_lie \n",
        "data_kdu_lie \n",
        "data_kdu_lie2 \n",
        "data_chc_lie \n",
        "data_kdu_lie3a \n",
        "data_kdu_lie4o \n",
        "data_gmk_lie \n",
        "data_kdu_lie5a \n"
      ],
      "metadata": {
        "id": "keULqeGyKr_K",
        "colab": {
          "base_uri": "https://localhost:8080/",
          "height": 522
        },
        "outputId": "e542c411-68df-46ef-8f1f-da7ae60c8118"
      },
      "execution_count": 17,
      "outputs": [
        {
          "output_type": "stream",
          "name": "stdout",
          "text": [
            "\n"
          ]
        },
        {
          "output_type": "execute_result",
          "data": {
            "text/html": [
              "\n",
              "  <div id=\"df-a2dcfaca-7166-4e99-a1e8-ef3c308886ca\">\n",
              "    <div class=\"colab-df-container\">\n",
              "      <div>\n",
              "<style scoped>\n",
              "    .dataframe tbody tr th:only-of-type {\n",
              "        vertical-align: middle;\n",
              "    }\n",
              "\n",
              "    .dataframe tbody tr th {\n",
              "        vertical-align: top;\n",
              "    }\n",
              "\n",
              "    .dataframe thead th {\n",
              "        text-align: right;\n",
              "    }\n",
              "</style>\n",
              "<table border=\"1\" class=\"dataframe\">\n",
              "  <thead>\n",
              "    <tr style=\"text-align: right;\">\n",
              "      <th></th>\n",
              "      <th>Unnamed: 0</th>\n",
              "      <th>ecg</th>\n",
              "      <th>bpm</th>\n",
              "      <th>bin-2</th>\n",
              "      <th>bin-1</th>\n",
              "      <th>bin0</th>\n",
              "      <th>bin1</th>\n",
              "      <th>bin2</th>\n",
              "      <th>512fft</th>\n",
              "      <th>400fft</th>\n",
              "      <th>300fft</th>\n",
              "      <th>200fft</th>\n",
              "      <th>100fft</th>\n",
              "      <th>70fft</th>\n",
              "      <th>bin_var</th>\n",
              "      <th>motion_energy</th>\n",
              "    </tr>\n",
              "  </thead>\n",
              "  <tbody>\n",
              "    <tr>\n",
              "      <th>0</th>\n",
              "      <td>0</td>\n",
              "      <td>82.978723</td>\n",
              "      <td>108.750000</td>\n",
              "      <td>0.0000</td>\n",
              "      <td>0.0000</td>\n",
              "      <td>0.0000</td>\n",
              "      <td>0.000000</td>\n",
              "      <td>0.000000</td>\n",
              "      <td>0.0000</td>\n",
              "      <td>0.000000</td>\n",
              "      <td>0.000000</td>\n",
              "      <td>0.000000</td>\n",
              "      <td>0.000000</td>\n",
              "      <td>0.0000</td>\n",
              "      <td>0.0000</td>\n",
              "      <td>0.000000</td>\n",
              "    </tr>\n",
              "    <tr>\n",
              "      <th>1</th>\n",
              "      <td>1</td>\n",
              "      <td>111.428571</td>\n",
              "      <td>108.619619</td>\n",
              "      <td>0.0000</td>\n",
              "      <td>0.0000</td>\n",
              "      <td>0.0000</td>\n",
              "      <td>0.000000</td>\n",
              "      <td>0.000000</td>\n",
              "      <td>0.0000</td>\n",
              "      <td>0.000000</td>\n",
              "      <td>0.000000</td>\n",
              "      <td>0.000000</td>\n",
              "      <td>0.000000</td>\n",
              "      <td>0.0000</td>\n",
              "      <td>0.0000</td>\n",
              "      <td>0.000000</td>\n",
              "    </tr>\n",
              "    <tr>\n",
              "      <th>2</th>\n",
              "      <td>2</td>\n",
              "      <td>111.428571</td>\n",
              "      <td>108.489238</td>\n",
              "      <td>0.0000</td>\n",
              "      <td>0.0000</td>\n",
              "      <td>0.0000</td>\n",
              "      <td>0.000000</td>\n",
              "      <td>0.000000</td>\n",
              "      <td>0.0000</td>\n",
              "      <td>0.000000</td>\n",
              "      <td>0.000000</td>\n",
              "      <td>0.000000</td>\n",
              "      <td>0.000000</td>\n",
              "      <td>0.0000</td>\n",
              "      <td>0.0000</td>\n",
              "      <td>0.000000</td>\n",
              "    </tr>\n",
              "    <tr>\n",
              "      <th>3</th>\n",
              "      <td>3</td>\n",
              "      <td>111.428571</td>\n",
              "      <td>108.358858</td>\n",
              "      <td>0.0000</td>\n",
              "      <td>0.0000</td>\n",
              "      <td>0.0000</td>\n",
              "      <td>0.000000</td>\n",
              "      <td>0.000000</td>\n",
              "      <td>0.0000</td>\n",
              "      <td>0.000000</td>\n",
              "      <td>0.000000</td>\n",
              "      <td>0.000000</td>\n",
              "      <td>0.000000</td>\n",
              "      <td>0.0000</td>\n",
              "      <td>0.0000</td>\n",
              "      <td>0.000000</td>\n",
              "    </tr>\n",
              "    <tr>\n",
              "      <th>4</th>\n",
              "      <td>4</td>\n",
              "      <td>111.428571</td>\n",
              "      <td>108.228477</td>\n",
              "      <td>0.0000</td>\n",
              "      <td>0.0000</td>\n",
              "      <td>0.0000</td>\n",
              "      <td>0.000000</td>\n",
              "      <td>0.000000</td>\n",
              "      <td>0.0000</td>\n",
              "      <td>0.000000</td>\n",
              "      <td>0.000000</td>\n",
              "      <td>0.000000</td>\n",
              "      <td>0.000000</td>\n",
              "      <td>0.0000</td>\n",
              "      <td>0.0000</td>\n",
              "      <td>0.000000</td>\n",
              "    </tr>\n",
              "    <tr>\n",
              "      <th>...</th>\n",
              "      <td>...</td>\n",
              "      <td>...</td>\n",
              "      <td>...</td>\n",
              "      <td>...</td>\n",
              "      <td>...</td>\n",
              "      <td>...</td>\n",
              "      <td>...</td>\n",
              "      <td>...</td>\n",
              "      <td>...</td>\n",
              "      <td>...</td>\n",
              "      <td>...</td>\n",
              "      <td>...</td>\n",
              "      <td>...</td>\n",
              "      <td>...</td>\n",
              "      <td>...</td>\n",
              "      <td>...</td>\n",
              "    </tr>\n",
              "    <tr>\n",
              "      <th>1195</th>\n",
              "      <td>1195</td>\n",
              "      <td>81.250000</td>\n",
              "      <td>108.750000</td>\n",
              "      <td>107.8125</td>\n",
              "      <td>107.8125</td>\n",
              "      <td>107.8125</td>\n",
              "      <td>108.984375</td>\n",
              "      <td>111.328125</td>\n",
              "      <td>107.8125</td>\n",
              "      <td>76.171875</td>\n",
              "      <td>85.546875</td>\n",
              "      <td>83.203125</td>\n",
              "      <td>83.203125</td>\n",
              "      <td>107.8125</td>\n",
              "      <td>15.8475</td>\n",
              "      <td>0.311092</td>\n",
              "    </tr>\n",
              "    <tr>\n",
              "      <th>1196</th>\n",
              "      <td>1196</td>\n",
              "      <td>81.250000</td>\n",
              "      <td>108.750000</td>\n",
              "      <td>107.8125</td>\n",
              "      <td>107.8125</td>\n",
              "      <td>107.8125</td>\n",
              "      <td>108.984375</td>\n",
              "      <td>111.328125</td>\n",
              "      <td>107.8125</td>\n",
              "      <td>76.171875</td>\n",
              "      <td>85.546875</td>\n",
              "      <td>83.203125</td>\n",
              "      <td>83.203125</td>\n",
              "      <td>107.8125</td>\n",
              "      <td>15.8100</td>\n",
              "      <td>0.311092</td>\n",
              "    </tr>\n",
              "    <tr>\n",
              "      <th>1197</th>\n",
              "      <td>1197</td>\n",
              "      <td>81.250000</td>\n",
              "      <td>108.750000</td>\n",
              "      <td>107.8125</td>\n",
              "      <td>107.8125</td>\n",
              "      <td>107.8125</td>\n",
              "      <td>108.984375</td>\n",
              "      <td>111.328125</td>\n",
              "      <td>107.8125</td>\n",
              "      <td>76.171875</td>\n",
              "      <td>85.546875</td>\n",
              "      <td>83.203125</td>\n",
              "      <td>83.203125</td>\n",
              "      <td>107.8125</td>\n",
              "      <td>16.3400</td>\n",
              "      <td>0.311092</td>\n",
              "    </tr>\n",
              "    <tr>\n",
              "      <th>1198</th>\n",
              "      <td>1198</td>\n",
              "      <td>81.250000</td>\n",
              "      <td>108.750000</td>\n",
              "      <td>107.8125</td>\n",
              "      <td>107.8125</td>\n",
              "      <td>107.8125</td>\n",
              "      <td>108.984375</td>\n",
              "      <td>111.328125</td>\n",
              "      <td>107.8125</td>\n",
              "      <td>76.171875</td>\n",
              "      <td>84.960938</td>\n",
              "      <td>83.203125</td>\n",
              "      <td>83.203125</td>\n",
              "      <td>107.8125</td>\n",
              "      <td>16.8500</td>\n",
              "      <td>0.311092</td>\n",
              "    </tr>\n",
              "    <tr>\n",
              "      <th>1199</th>\n",
              "      <td>1199</td>\n",
              "      <td>81.250000</td>\n",
              "      <td>108.750000</td>\n",
              "      <td>107.8125</td>\n",
              "      <td>107.8125</td>\n",
              "      <td>107.8125</td>\n",
              "      <td>108.984375</td>\n",
              "      <td>111.328125</td>\n",
              "      <td>107.8125</td>\n",
              "      <td>76.171875</td>\n",
              "      <td>84.375000</td>\n",
              "      <td>83.203125</td>\n",
              "      <td>83.203125</td>\n",
              "      <td>107.8125</td>\n",
              "      <td>16.4475</td>\n",
              "      <td>0.311092</td>\n",
              "    </tr>\n",
              "  </tbody>\n",
              "</table>\n",
              "<p>1200 rows × 16 columns</p>\n",
              "</div>\n",
              "      <button class=\"colab-df-convert\" onclick=\"convertToInteractive('df-a2dcfaca-7166-4e99-a1e8-ef3c308886ca')\"\n",
              "              title=\"Convert this dataframe to an interactive table.\"\n",
              "              style=\"display:none;\">\n",
              "        \n",
              "  <svg xmlns=\"http://www.w3.org/2000/svg\" height=\"24px\"viewBox=\"0 0 24 24\"\n",
              "       width=\"24px\">\n",
              "    <path d=\"M0 0h24v24H0V0z\" fill=\"none\"/>\n",
              "    <path d=\"M18.56 5.44l.94 2.06.94-2.06 2.06-.94-2.06-.94-.94-2.06-.94 2.06-2.06.94zm-11 1L8.5 8.5l.94-2.06 2.06-.94-2.06-.94L8.5 2.5l-.94 2.06-2.06.94zm10 10l.94 2.06.94-2.06 2.06-.94-2.06-.94-.94-2.06-.94 2.06-2.06.94z\"/><path d=\"M17.41 7.96l-1.37-1.37c-.4-.4-.92-.59-1.43-.59-.52 0-1.04.2-1.43.59L10.3 9.45l-7.72 7.72c-.78.78-.78 2.05 0 2.83L4 21.41c.39.39.9.59 1.41.59.51 0 1.02-.2 1.41-.59l7.78-7.78 2.81-2.81c.8-.78.8-2.07 0-2.86zM5.41 20L4 18.59l7.72-7.72 1.47 1.35L5.41 20z\"/>\n",
              "  </svg>\n",
              "      </button>\n",
              "      \n",
              "  <style>\n",
              "    .colab-df-container {\n",
              "      display:flex;\n",
              "      flex-wrap:wrap;\n",
              "      gap: 12px;\n",
              "    }\n",
              "\n",
              "    .colab-df-convert {\n",
              "      background-color: #E8F0FE;\n",
              "      border: none;\n",
              "      border-radius: 50%;\n",
              "      cursor: pointer;\n",
              "      display: none;\n",
              "      fill: #1967D2;\n",
              "      height: 32px;\n",
              "      padding: 0 0 0 0;\n",
              "      width: 32px;\n",
              "    }\n",
              "\n",
              "    .colab-df-convert:hover {\n",
              "      background-color: #E2EBFA;\n",
              "      box-shadow: 0px 1px 2px rgba(60, 64, 67, 0.3), 0px 1px 3px 1px rgba(60, 64, 67, 0.15);\n",
              "      fill: #174EA6;\n",
              "    }\n",
              "\n",
              "    [theme=dark] .colab-df-convert {\n",
              "      background-color: #3B4455;\n",
              "      fill: #D2E3FC;\n",
              "    }\n",
              "\n",
              "    [theme=dark] .colab-df-convert:hover {\n",
              "      background-color: #434B5C;\n",
              "      box-shadow: 0px 1px 3px 1px rgba(0, 0, 0, 0.15);\n",
              "      filter: drop-shadow(0px 1px 2px rgba(0, 0, 0, 0.3));\n",
              "      fill: #FFFFFF;\n",
              "    }\n",
              "  </style>\n",
              "\n",
              "      <script>\n",
              "        const buttonEl =\n",
              "          document.querySelector('#df-a2dcfaca-7166-4e99-a1e8-ef3c308886ca button.colab-df-convert');\n",
              "        buttonEl.style.display =\n",
              "          google.colab.kernel.accessAllowed ? 'block' : 'none';\n",
              "\n",
              "        async function convertToInteractive(key) {\n",
              "          const element = document.querySelector('#df-a2dcfaca-7166-4e99-a1e8-ef3c308886ca');\n",
              "          const dataTable =\n",
              "            await google.colab.kernel.invokeFunction('convertToInteractive',\n",
              "                                                     [key], {});\n",
              "          if (!dataTable) return;\n",
              "\n",
              "          const docLinkHtml = 'Like what you see? Visit the ' +\n",
              "            '<a target=\"_blank\" href=https://colab.research.google.com/notebooks/data_table.ipynb>data table notebook</a>'\n",
              "            + ' to learn more about interactive tables.';\n",
              "          element.innerHTML = '';\n",
              "          dataTable['output_type'] = 'display_data';\n",
              "          await google.colab.output.renderOutput(dataTable, element);\n",
              "          const docLink = document.createElement('div');\n",
              "          docLink.innerHTML = docLinkHtml;\n",
              "          element.appendChild(docLink);\n",
              "        }\n",
              "      </script>\n",
              "    </div>\n",
              "  </div>\n",
              "  "
            ],
            "text/plain": [
              "      Unnamed: 0         ecg         bpm  ...     70fft  bin_var  motion_energy\n",
              "0              0   82.978723  108.750000  ...    0.0000   0.0000       0.000000\n",
              "1              1  111.428571  108.619619  ...    0.0000   0.0000       0.000000\n",
              "2              2  111.428571  108.489238  ...    0.0000   0.0000       0.000000\n",
              "3              3  111.428571  108.358858  ...    0.0000   0.0000       0.000000\n",
              "4              4  111.428571  108.228477  ...    0.0000   0.0000       0.000000\n",
              "...          ...         ...         ...  ...       ...      ...            ...\n",
              "1195        1195   81.250000  108.750000  ...  107.8125  15.8475       0.311092\n",
              "1196        1196   81.250000  108.750000  ...  107.8125  15.8100       0.311092\n",
              "1197        1197   81.250000  108.750000  ...  107.8125  16.3400       0.311092\n",
              "1198        1198   81.250000  108.750000  ...  107.8125  16.8500       0.311092\n",
              "1199        1199   81.250000  108.750000  ...  107.8125  16.4475       0.311092\n",
              "\n",
              "[1200 rows x 16 columns]"
            ]
          },
          "metadata": {},
          "execution_count": 17
        }
      ]
    },
    {
      "cell_type": "code",
      "source": [
        "# 타겟값 분포 확인\n",
        "bins = np.linspace(40, 120, 50)\n",
        "plt.figure(figsize=(10, 8))\n",
        "\n",
        "plt.title('ecg')\n",
        "plt.hist(data_chc_sit['ecg'], bins, alpha = 0.5, label = 'chc_sit')\n",
        "plt.hist(data_ksj_lie['ecg'], bins, alpha = 0.5, label = 'ksj_lie')\n",
        "plt.hist(data_les_sleep['ecg'], bins, alpha = 0.5, label = 'les_sleep')\n",
        "plt.hist(data_sjy_lie['ecg'], bins, alpha = 0.5, label = 'sjy_lie')\n",
        "plt.hist(data_kdu_lie['ecg'], bins, alpha = 0.5, label = 'kdu_lie')\n",
        "plt.hist(data_kdu_lie2['ecg'], bins, alpha = 0.5, label = 'kdu_lie2')\n",
        "plt.hist(data_chc_lie['ecg'], bins, alpha = 0.5, label = 'chc_lie')\n",
        "plt.hist(data_kdu_lie3a['ecg'], bins, alpha = 0.5, label = 'kdu_lie3a')\n",
        "plt.hist(data_kdu_lie4o['ecg'], bins, alpha = 0.5, label = 'kdu_lie4o')\n",
        "plt.hist(data_gmk_lie['ecg'], bins, alpha = 0.5, label = 'gmk_lie')\n",
        "plt.hist(data_kdu_lie5a['ecg'], bins, alpha = 0.5, label = 'kdu_lie5a')\n",
        "plt.legend(loc='upper right')\n",
        "\n",
        "plt.show()"
      ],
      "metadata": {
        "colab": {
          "base_uri": "https://localhost:8080/",
          "height": 499
        },
        "id": "brUc-oN9KMvy",
        "outputId": "9190df2a-857d-450d-eeb7-ce9908677ffd"
      },
      "execution_count": 18,
      "outputs": [
        {
          "output_type": "display_data",
          "data": {
            "image/png": "[encoded data removed]",
            "text/plain": [
              "<Figure size 720x576 with 1 Axes>"
            ]
          },
          "metadata": {
            "needs_background": "light"
          }
        }
      ]
    },
    {
      "cell_type": "code",
      "source": [
        "# lie data만 확인 \n",
        "bins = np.linspace(40, 120, 50)\n",
        "plt.figure(figsize=(10, 8))\n",
        "plt.hist(data_ksj_lie['ecg'], bins, alpha = 0.5, label = 'ksj_lie')\n",
        "plt.hist(data_sjy_lie['ecg'], bins, alpha = 0.5, label = 'sjy_lie')\n",
        "plt.hist(data_kdu_lie['ecg'], bins, alpha = 0.5, label = 'kdu_lie')\n",
        "plt.hist(data_kdu_lie2['ecg'], bins, alpha = 0.5, label = 'kdu_lie2')\n",
        "plt.hist(data_chc_lie['ecg'], bins, alpha = 0.5, label = 'chc_lie')\n",
        "plt.hist(data_kdu_lie3a['ecg'], bins, alpha = 0.5, label = 'kdu_lie3a')\n",
        "plt.hist(data_kdu_lie4o['ecg'], bins, alpha = 0.5, label = 'kdu_lie4o')\n",
        "plt.hist(data_gmk_lie['ecg'], bins, alpha = 0.5, label = 'gmk_lie')\n",
        "plt.hist(data_kdu_lie5a['ecg'], bins, alpha = 0.5, label = 'kdu_lie5a')\n",
        "plt.legend(loc='upper right')\n",
        "\n",
        "plt.show()"
      ],
      "metadata": {
        "colab": {
          "base_uri": "https://localhost:8080/",
          "height": 483
        },
        "id": "C76un20ZKquB",
        "outputId": "be8e8165-d81b-4666-a552-6aa3dc7b8608"
      },
      "execution_count": 19,
      "outputs": [
        {
          "output_type": "display_data",
          "data": {
            "image/png": "[encoded data removed]",
            "text/plain": [
              "<Figure size 720x576 with 1 Axes>"
            ]
          },
          "metadata": {
            "needs_background": "light"
          }
        }
      ]
    },
    {
      "cell_type": "markdown",
      "source": [
        "해석) lie data 합쳐도 되겠다?\n",
        "\n",
        "=> 각각 데이터에 있는 사람 각자 사람 index 부여 하고, 거리도 적고 합치자 \n",
        "\n",
        "=> 그러면 거리와 심장 확인하는데 feature 하나 더 추가하는 것 !?\n",
        "\n",
        "<<지훈님과 얘기해보기>>\n"
      ],
      "metadata": {
        "id": "my_1fhQlPqXp"
      }
    },
    {
      "cell_type": "markdown",
      "source": [
        "## 2. 데이터 전처리"
      ],
      "metadata": {
        "id": "m_2oEacDJbQa"
      }
    },
    {
      "cell_type": "markdown",
      "source": [
        "## 3. 모델링 (학습)\n"
      ],
      "metadata": {
        "id": "Rk3_-01MJK_2"
      }
    },
    {
      "cell_type": "markdown",
      "source": [
        "- 선형회귀모델 : base model\n",
        "- Random Forest\n",
        "- XGboost (CV 돌려보기) \n",
        "- SVM\n",
        "- NN"
      ],
      "metadata": {
        "id": "uTiYDMnQJwjA"
      }
    },
    {
      "cell_type": "markdown",
      "source": [
        "## ----------------------------------------------------Testing----------------------------------------------------\n"
      ],
      "metadata": {
        "id": "qWsRZg-yXN1s"
      }
    },
    {
      "cell_type": "markdown",
      "source": [
        "### 전처리"
      ],
      "metadata": {
        "id": "sUlGRU5rd-Al"
      }
    },
    {
      "cell_type": "markdown",
      "source": [
        "일단 모델링을 하기 위하여 sit 0.5/lie 0.5/lie 1.0/sleep 1.0 으로 데이터 막무가내로 합치기;"
      ],
      "metadata": {
        "id": "QWC39Kl0XWSW"
      }
    },
    {
      "cell_type": "code",
      "source": [
        "lie_datas = [data_ksj_lie, data_sjy_lie, data_kdu_lie, data_kdu_lie2, data_chc_lie, data_kdu_lie3a, data_kdu_lie4o, data_gmk_lie, data_kdu_lie5a]\n",
        "lie_data = pd.concat(lie_datas, ignore_index=True)"
      ],
      "metadata": {
        "id": "A_4uXA8gJvr2"
      },
      "execution_count": 35,
      "outputs": []
    },
    {
      "cell_type": "code",
      "source": [
        "lie_data"
      ],
      "metadata": {
        "colab": {
          "base_uri": "https://localhost:8080/",
          "height": 423
        },
        "id": "NXnkt9K9ZR5-",
        "outputId": "6677f290-71cd-4bab-a059-edfaaa19b796"
      },
      "execution_count": 36,
      "outputs": [
        {
          "output_type": "execute_result",
          "data": {
            "text/html": [
              "\n",
              "  <div id=\"df-69fb4906-52e3-45e9-8311-e30666518220\">\n",
              "    <div class=\"colab-df-container\">\n",
              "      <div>\n",
              "<style scoped>\n",
              "    .dataframe tbody tr th:only-of-type {\n",
              "        vertical-align: middle;\n",
              "    }\n",
              "\n",
              "    .dataframe tbody tr th {\n",
              "        vertical-align: top;\n",
              "    }\n",
              "\n",
              "    .dataframe thead th {\n",
              "        text-align: right;\n",
              "    }\n",
              "</style>\n",
              "<table border=\"1\" class=\"dataframe\">\n",
              "  <thead>\n",
              "    <tr style=\"text-align: right;\">\n",
              "      <th></th>\n",
              "      <th>Unnamed: 0</th>\n",
              "      <th>ecg</th>\n",
              "      <th>bpm</th>\n",
              "      <th>bin-2</th>\n",
              "      <th>bin-1</th>\n",
              "      <th>bin0</th>\n",
              "      <th>bin1</th>\n",
              "      <th>bin2</th>\n",
              "      <th>512fft</th>\n",
              "      <th>400fft</th>\n",
              "      <th>300fft</th>\n",
              "      <th>200fft</th>\n",
              "      <th>100fft</th>\n",
              "      <th>70fft</th>\n",
              "      <th>bin_var</th>\n",
              "      <th>motion_energy</th>\n",
              "    </tr>\n",
              "  </thead>\n",
              "  <tbody>\n",
              "    <tr>\n",
              "      <th>0</th>\n",
              "      <td>0</td>\n",
              "      <td>69.026549</td>\n",
              "      <td>67.968750</td>\n",
              "      <td>0.0000</td>\n",
              "      <td>0.0000</td>\n",
              "      <td>0.0000</td>\n",
              "      <td>0.000000</td>\n",
              "      <td>0.000000</td>\n",
              "      <td>0.0000</td>\n",
              "      <td>0.000000</td>\n",
              "      <td>0.000000</td>\n",
              "      <td>0.000000</td>\n",
              "      <td>0.000000</td>\n",
              "      <td>0.0000</td>\n",
              "      <td>9.1875</td>\n",
              "      <td>0.000000</td>\n",
              "    </tr>\n",
              "    <tr>\n",
              "      <th>1</th>\n",
              "      <td>1</td>\n",
              "      <td>74.285714</td>\n",
              "      <td>67.980391</td>\n",
              "      <td>0.0000</td>\n",
              "      <td>0.0000</td>\n",
              "      <td>0.0000</td>\n",
              "      <td>0.000000</td>\n",
              "      <td>0.000000</td>\n",
              "      <td>0.0000</td>\n",
              "      <td>0.000000</td>\n",
              "      <td>0.000000</td>\n",
              "      <td>0.000000</td>\n",
              "      <td>0.000000</td>\n",
              "      <td>0.0000</td>\n",
              "      <td>9.1875</td>\n",
              "      <td>0.000000</td>\n",
              "    </tr>\n",
              "    <tr>\n",
              "      <th>2</th>\n",
              "      <td>2</td>\n",
              "      <td>74.285714</td>\n",
              "      <td>67.992032</td>\n",
              "      <td>0.0000</td>\n",
              "      <td>0.0000</td>\n",
              "      <td>0.0000</td>\n",
              "      <td>0.000000</td>\n",
              "      <td>0.000000</td>\n",
              "      <td>0.0000</td>\n",
              "      <td>0.000000</td>\n",
              "      <td>0.000000</td>\n",
              "      <td>0.000000</td>\n",
              "      <td>0.000000</td>\n",
              "      <td>0.0000</td>\n",
              "      <td>9.1875</td>\n",
              "      <td>0.000000</td>\n",
              "    </tr>\n",
              "    <tr>\n",
              "      <th>3</th>\n",
              "      <td>3</td>\n",
              "      <td>74.285714</td>\n",
              "      <td>68.003673</td>\n",
              "      <td>0.0000</td>\n",
              "      <td>0.0000</td>\n",
              "      <td>0.0000</td>\n",
              "      <td>0.000000</td>\n",
              "      <td>0.000000</td>\n",
              "      <td>0.0000</td>\n",
              "      <td>0.000000</td>\n",
              "      <td>0.000000</td>\n",
              "      <td>0.000000</td>\n",
              "      <td>0.000000</td>\n",
              "      <td>0.0000</td>\n",
              "      <td>9.1875</td>\n",
              "      <td>0.000000</td>\n",
              "    </tr>\n",
              "    <tr>\n",
              "      <th>4</th>\n",
              "      <td>4</td>\n",
              "      <td>74.285714</td>\n",
              "      <td>68.015315</td>\n",
              "      <td>0.0000</td>\n",
              "      <td>0.0000</td>\n",
              "      <td>0.0000</td>\n",
              "      <td>0.000000</td>\n",
              "      <td>0.000000</td>\n",
              "      <td>0.0000</td>\n",
              "      <td>0.000000</td>\n",
              "      <td>0.000000</td>\n",
              "      <td>0.000000</td>\n",
              "      <td>0.000000</td>\n",
              "      <td>0.0000</td>\n",
              "      <td>9.1875</td>\n",
              "      <td>0.000000</td>\n",
              "    </tr>\n",
              "    <tr>\n",
              "      <th>...</th>\n",
              "      <td>...</td>\n",
              "      <td>...</td>\n",
              "      <td>...</td>\n",
              "      <td>...</td>\n",
              "      <td>...</td>\n",
              "      <td>...</td>\n",
              "      <td>...</td>\n",
              "      <td>...</td>\n",
              "      <td>...</td>\n",
              "      <td>...</td>\n",
              "      <td>...</td>\n",
              "      <td>...</td>\n",
              "      <td>...</td>\n",
              "      <td>...</td>\n",
              "      <td>...</td>\n",
              "      <td>...</td>\n",
              "    </tr>\n",
              "    <tr>\n",
              "      <th>152395</th>\n",
              "      <td>1195</td>\n",
              "      <td>81.250000</td>\n",
              "      <td>108.750000</td>\n",
              "      <td>107.8125</td>\n",
              "      <td>107.8125</td>\n",
              "      <td>107.8125</td>\n",
              "      <td>108.984375</td>\n",
              "      <td>111.328125</td>\n",
              "      <td>107.8125</td>\n",
              "      <td>76.171875</td>\n",
              "      <td>85.546875</td>\n",
              "      <td>83.203125</td>\n",
              "      <td>83.203125</td>\n",
              "      <td>107.8125</td>\n",
              "      <td>15.8475</td>\n",
              "      <td>0.311092</td>\n",
              "    </tr>\n",
              "    <tr>\n",
              "      <th>152396</th>\n",
              "      <td>1196</td>\n",
              "      <td>81.250000</td>\n",
              "      <td>108.750000</td>\n",
              "      <td>107.8125</td>\n",
              "      <td>107.8125</td>\n",
              "      <td>107.8125</td>\n",
              "      <td>108.984375</td>\n",
              "      <td>111.328125</td>\n",
              "      <td>107.8125</td>\n",
              "      <td>76.171875</td>\n",
              "      <td>85.546875</td>\n",
              "      <td>83.203125</td>\n",
              "      <td>83.203125</td>\n",
              "      <td>107.8125</td>\n",
              "      <td>15.8100</td>\n",
              "      <td>0.311092</td>\n",
              "    </tr>\n",
              "    <tr>\n",
              "      <th>152397</th>\n",
              "      <td>1197</td>\n",
              "      <td>81.250000</td>\n",
              "      <td>108.750000</td>\n",
              "      <td>107.8125</td>\n",
              "      <td>107.8125</td>\n",
              "      <td>107.8125</td>\n",
              "      <td>108.984375</td>\n",
              "      <td>111.328125</td>\n",
              "      <td>107.8125</td>\n",
              "      <td>76.171875</td>\n",
              "      <td>85.546875</td>\n",
              "      <td>83.203125</td>\n",
              "      <td>83.203125</td>\n",
              "      <td>107.8125</td>\n",
              "      <td>16.3400</td>\n",
              "      <td>0.311092</td>\n",
              "    </tr>\n",
              "    <tr>\n",
              "      <th>152398</th>\n",
              "      <td>1198</td>\n",
              "      <td>81.250000</td>\n",
              "      <td>108.750000</td>\n",
              "      <td>107.8125</td>\n",
              "      <td>107.8125</td>\n",
              "      <td>107.8125</td>\n",
              "      <td>108.984375</td>\n",
              "      <td>111.328125</td>\n",
              "      <td>107.8125</td>\n",
              "      <td>76.171875</td>\n",
              "      <td>84.960938</td>\n",
              "      <td>83.203125</td>\n",
              "      <td>83.203125</td>\n",
              "      <td>107.8125</td>\n",
              "      <td>16.8500</td>\n",
              "      <td>0.311092</td>\n",
              "    </tr>\n",
              "    <tr>\n",
              "      <th>152399</th>\n",
              "      <td>1199</td>\n",
              "      <td>81.250000</td>\n",
              "      <td>108.750000</td>\n",
              "      <td>107.8125</td>\n",
              "      <td>107.8125</td>\n",
              "      <td>107.8125</td>\n",
              "      <td>108.984375</td>\n",
              "      <td>111.328125</td>\n",
              "      <td>107.8125</td>\n",
              "      <td>76.171875</td>\n",
              "      <td>84.375000</td>\n",
              "      <td>83.203125</td>\n",
              "      <td>83.203125</td>\n",
              "      <td>107.8125</td>\n",
              "      <td>16.4475</td>\n",
              "      <td>0.311092</td>\n",
              "    </tr>\n",
              "  </tbody>\n",
              "</table>\n",
              "<p>152400 rows × 16 columns</p>\n",
              "</div>\n",
              "      <button class=\"colab-df-convert\" onclick=\"convertToInteractive('df-69fb4906-52e3-45e9-8311-e30666518220')\"\n",
              "              title=\"Convert this dataframe to an interactive table.\"\n",
              "              style=\"display:none;\">\n",
              "        \n",
              "  <svg xmlns=\"http://www.w3.org/2000/svg\" height=\"24px\"viewBox=\"0 0 24 24\"\n",
              "       width=\"24px\">\n",
              "    <path d=\"M0 0h24v24H0V0z\" fill=\"none\"/>\n",
              "    <path d=\"M18.56 5.44l.94 2.06.94-2.06 2.06-.94-2.06-.94-.94-2.06-.94 2.06-2.06.94zm-11 1L8.5 8.5l.94-2.06 2.06-.94-2.06-.94L8.5 2.5l-.94 2.06-2.06.94zm10 10l.94 2.06.94-2.06 2.06-.94-2.06-.94-.94-2.06-.94 2.06-2.06.94z\"/><path d=\"M17.41 7.96l-1.37-1.37c-.4-.4-.92-.59-1.43-.59-.52 0-1.04.2-1.43.59L10.3 9.45l-7.72 7.72c-.78.78-.78 2.05 0 2.83L4 21.41c.39.39.9.59 1.41.59.51 0 1.02-.2 1.41-.59l7.78-7.78 2.81-2.81c.8-.78.8-2.07 0-2.86zM5.41 20L4 18.59l7.72-7.72 1.47 1.35L5.41 20z\"/>\n",
              "  </svg>\n",
              "      </button>\n",
              "      \n",
              "  <style>\n",
              "    .colab-df-container {\n",
              "      display:flex;\n",
              "      flex-wrap:wrap;\n",
              "      gap: 12px;\n",
              "    }\n",
              "\n",
              "    .colab-df-convert {\n",
              "      background-color: #E8F0FE;\n",
              "      border: none;\n",
              "      border-radius: 50%;\n",
              "      cursor: pointer;\n",
              "      display: none;\n",
              "      fill: #1967D2;\n",
              "      height: 32px;\n",
              "      padding: 0 0 0 0;\n",
              "      width: 32px;\n",
              "    }\n",
              "\n",
              "    .colab-df-convert:hover {\n",
              "      background-color: #E2EBFA;\n",
              "      box-shadow: 0px 1px 2px rgba(60, 64, 67, 0.3), 0px 1px 3px 1px rgba(60, 64, 67, 0.15);\n",
              "      fill: #174EA6;\n",
              "    }\n",
              "\n",
              "    [theme=dark] .colab-df-convert {\n",
              "      background-color: #3B4455;\n",
              "      fill: #D2E3FC;\n",
              "    }\n",
              "\n",
              "    [theme=dark] .colab-df-convert:hover {\n",
              "      background-color: #434B5C;\n",
              "      box-shadow: 0px 1px 3px 1px rgba(0, 0, 0, 0.15);\n",
              "      filter: drop-shadow(0px 1px 2px rgba(0, 0, 0, 0.3));\n",
              "      fill: #FFFFFF;\n",
              "    }\n",
              "  </style>\n",
              "\n",
              "      <script>\n",
              "        const buttonEl =\n",
              "          document.querySelector('#df-69fb4906-52e3-45e9-8311-e30666518220 button.colab-df-convert');\n",
              "        buttonEl.style.display =\n",
              "          google.colab.kernel.accessAllowed ? 'block' : 'none';\n",
              "\n",
              "        async function convertToInteractive(key) {\n",
              "          const element = document.querySelector('#df-69fb4906-52e3-45e9-8311-e30666518220');\n",
              "          const dataTable =\n",
              "            await google.colab.kernel.invokeFunction('convertToInteractive',\n",
              "                                                     [key], {});\n",
              "          if (!dataTable) return;\n",
              "\n",
              "          const docLinkHtml = 'Like what you see? Visit the ' +\n",
              "            '<a target=\"_blank\" href=https://colab.research.google.com/notebooks/data_table.ipynb>data table notebook</a>'\n",
              "            + ' to learn more about interactive tables.';\n",
              "          element.innerHTML = '';\n",
              "          dataTable['output_type'] = 'display_data';\n",
              "          await google.colab.output.renderOutput(dataTable, element);\n",
              "          const docLink = document.createElement('div');\n",
              "          docLink.innerHTML = docLinkHtml;\n",
              "          element.appendChild(docLink);\n",
              "        }\n",
              "      </script>\n",
              "    </div>\n",
              "  </div>\n",
              "  "
            ],
            "text/plain": [
              "        Unnamed: 0        ecg         bpm  ...     70fft  bin_var  motion_energy\n",
              "0                0  69.026549   67.968750  ...    0.0000   9.1875       0.000000\n",
              "1                1  74.285714   67.980391  ...    0.0000   9.1875       0.000000\n",
              "2                2  74.285714   67.992032  ...    0.0000   9.1875       0.000000\n",
              "3                3  74.285714   68.003673  ...    0.0000   9.1875       0.000000\n",
              "4                4  74.285714   68.015315  ...    0.0000   9.1875       0.000000\n",
              "...            ...        ...         ...  ...       ...      ...            ...\n",
              "152395        1195  81.250000  108.750000  ...  107.8125  15.8475       0.311092\n",
              "152396        1196  81.250000  108.750000  ...  107.8125  15.8100       0.311092\n",
              "152397        1197  81.250000  108.750000  ...  107.8125  16.3400       0.311092\n",
              "152398        1198  81.250000  108.750000  ...  107.8125  16.8500       0.311092\n",
              "152399        1199  81.250000  108.750000  ...  107.8125  16.4475       0.311092\n",
              "\n",
              "[152400 rows x 16 columns]"
            ]
          },
          "metadata": {},
          "execution_count": 36
        }
      ]
    },
    {
      "cell_type": "code",
      "source": [
        "lie_data.isnull().sum()"
      ],
      "metadata": {
        "colab": {
          "base_uri": "https://localhost:8080/"
        },
        "id": "JZ6hWRPGZlh0",
        "outputId": "d0e3c641-8f12-4d38-d2d7-5d899ba9f85e"
      },
      "execution_count": 37,
      "outputs": [
        {
          "output_type": "execute_result",
          "data": {
            "text/plain": [
              "Unnamed: 0       0\n",
              "ecg              0\n",
              "bpm              0\n",
              "bin-2            0\n",
              "bin-1            0\n",
              "bin0             0\n",
              "bin1             0\n",
              "bin2             0\n",
              "512fft           0\n",
              "400fft           0\n",
              "300fft           0\n",
              "200fft           0\n",
              "100fft           0\n",
              "70fft            0\n",
              "bin_var          0\n",
              "motion_energy    0\n",
              "dtype: int64"
            ]
          },
          "metadata": {},
          "execution_count": 37
        }
      ]
    },
    {
      "cell_type": "code",
      "source": [
        "lie_data.dtypes"
      ],
      "metadata": {
        "colab": {
          "base_uri": "https://localhost:8080/"
        },
        "id": "jky-SgVUab5S",
        "outputId": "acb69067-e5d7-4e31-832f-380e0676414d"
      },
      "execution_count": 38,
      "outputs": [
        {
          "output_type": "execute_result",
          "data": {
            "text/plain": [
              "Unnamed: 0         int64\n",
              "ecg              float64\n",
              "bpm              float64\n",
              "bin-2            float64\n",
              "bin-1            float64\n",
              "bin0             float64\n",
              "bin1             float64\n",
              "bin2             float64\n",
              "512fft           float64\n",
              "400fft           float64\n",
              "300fft           float64\n",
              "200fft           float64\n",
              "100fft           float64\n",
              "70fft            float64\n",
              "bin_var          float64\n",
              "motion_energy    float64\n",
              "dtype: object"
            ]
          },
          "metadata": {},
          "execution_count": 38
        }
      ]
    },
    {
      "cell_type": "code",
      "source": [
        "lie_data.describe"
      ],
      "metadata": {
        "colab": {
          "base_uri": "https://localhost:8080/"
        },
        "id": "Y3Wrge9Ja0eB",
        "outputId": "66314c41-c0cf-4653-83f9-0f1ea643f2ad"
      },
      "execution_count": 39,
      "outputs": [
        {
          "output_type": "execute_result",
          "data": {
            "text/plain": [
              "<bound method NDFrame.describe of         Unnamed: 0        ecg         bpm  ...     70fft  bin_var  motion_energy\n",
              "0                0  69.026549   67.968750  ...    0.0000   9.1875       0.000000\n",
              "1                1  74.285714   67.980391  ...    0.0000   9.1875       0.000000\n",
              "2                2  74.285714   67.992032  ...    0.0000   9.1875       0.000000\n",
              "3                3  74.285714   68.003673  ...    0.0000   9.1875       0.000000\n",
              "4                4  74.285714   68.015315  ...    0.0000   9.1875       0.000000\n",
              "...            ...        ...         ...  ...       ...      ...            ...\n",
              "152395        1195  81.250000  108.750000  ...  107.8125  15.8475       0.311092\n",
              "152396        1196  81.250000  108.750000  ...  107.8125  15.8100       0.311092\n",
              "152397        1197  81.250000  108.750000  ...  107.8125  16.3400       0.311092\n",
              "152398        1198  81.250000  108.750000  ...  107.8125  16.8500       0.311092\n",
              "152399        1199  81.250000  108.750000  ...  107.8125  16.4475       0.311092\n",
              "\n",
              "[152400 rows x 16 columns]>"
            ]
          },
          "metadata": {},
          "execution_count": 39
        }
      ]
    },
    {
      "cell_type": "code",
      "source": [
        "# 결측값이 있는 특성을 찾습니다.\n",
        "[(x, lie_data[x].isnull().sum()) for x in lie_data.columns if lie_data[x].isnull().any()]"
      ],
      "metadata": {
        "colab": {
          "base_uri": "https://localhost:8080/"
        },
        "id": "nWpK5o-gZXYt",
        "outputId": "5f950e28-3491-4b7c-bb81-656663f63750"
      },
      "execution_count": 40,
      "outputs": [
        {
          "output_type": "execute_result",
          "data": {
            "text/plain": [
              "[]"
            ]
          },
          "metadata": {},
          "execution_count": 40
        }
      ]
    },
    {
      "cell_type": "code",
      "source": [
        "# 0을 포함한 특성을 찾습니다.\n",
        "[(x, lie_data[x].isna().sum()) for x in lie_data.columns if lie_data[x].isna().any()]"
      ],
      "metadata": {
        "colab": {
          "base_uri": "https://localhost:8080/"
        },
        "id": "XQZsF-j5b771",
        "outputId": "18f8eca3-f774-4e2e-db33-42e57f32db77"
      },
      "execution_count": 42,
      "outputs": [
        {
          "output_type": "execute_result",
          "data": {
            "text/plain": [
              "[]"
            ]
          },
          "metadata": {},
          "execution_count": 42
        }
      ]
    },
    {
      "cell_type": "code",
      "source": [
        "lie_data.isna().sum()"
      ],
      "metadata": {
        "colab": {
          "base_uri": "https://localhost:8080/"
        },
        "id": "D_EX5zOycb5Z",
        "outputId": "d386a809-e73c-4f3e-c946-2239c45ff3c8"
      },
      "execution_count": 45,
      "outputs": [
        {
          "output_type": "execute_result",
          "data": {
            "text/plain": [
              "Unnamed: 0       0\n",
              "ecg              0\n",
              "bpm              0\n",
              "bin-2            0\n",
              "bin-1            0\n",
              "bin0             0\n",
              "bin1             0\n",
              "bin2             0\n",
              "512fft           0\n",
              "400fft           0\n",
              "300fft           0\n",
              "200fft           0\n",
              "100fft           0\n",
              "70fft            0\n",
              "bin_var          0\n",
              "motion_energy    0\n",
              "dtype: int64"
            ]
          },
          "metadata": {},
          "execution_count": 45
        }
      ]
    },
    {
      "cell_type": "code",
      "source": [
        "(lie_data == 0.0000).sum()"
      ],
      "metadata": {
        "colab": {
          "base_uri": "https://localhost:8080/"
        },
        "id": "O8lFBFd1cs_Z",
        "outputId": "6012f81e-67c2-448b-e79e-d26e84d4e81d"
      },
      "execution_count": 47,
      "outputs": [
        {
          "output_type": "execute_result",
          "data": {
            "text/plain": [
              "Unnamed: 0           9\n",
              "ecg                  0\n",
              "bpm                  0\n",
              "bin-2              512\n",
              "bin-1              531\n",
              "bin0               591\n",
              "bin1               597\n",
              "bin2               620\n",
              "512fft             591\n",
              "400fft           20152\n",
              "300fft            2403\n",
              "200fft             591\n",
              "100fft             591\n",
              "70fft              591\n",
              "bin_var          72356\n",
              "motion_energy      180\n",
              "dtype: int64"
            ]
          },
          "metadata": {},
          "execution_count": 47
        }
      ]
    },
    {
      "cell_type": "markdown",
      "source": [
        "### linear regression (raw)"
      ],
      "metadata": {
        "id": "SdXIKMMKeB4v"
      }
    },
    {
      "cell_type": "code",
      "source": [
        "pip install category_encoders"
      ],
      "metadata": {
        "colab": {
          "base_uri": "https://localhost:8080/"
        },
        "id": "03liKVfEp0m_",
        "outputId": "17cb3dc5-e3cc-441a-d9e7-cb57f8473062"
      },
      "execution_count": 57,
      "outputs": [
        {
          "output_type": "stream",
          "name": "stdout",
          "text": [
            "Collecting category_encoders\n",
            "  Downloading category_encoders-2.3.0-py2.py3-none-any.whl (82 kB)\n",
            "\u001b[?25l\r\u001b[K     |████                            | 10 kB 18.7 MB/s eta 0:00:01\r\u001b[K     |████████                        | 20 kB 22.4 MB/s eta 0:00:01\r\u001b[K     |████████████                    | 30 kB 19.6 MB/s eta 0:00:01\r\u001b[K     |████████████████                | 40 kB 12.9 MB/s eta 0:00:01\r\u001b[K     |████████████████████            | 51 kB 5.8 MB/s eta 0:00:01\r\u001b[K     |████████████████████████        | 61 kB 6.2 MB/s eta 0:00:01\r\u001b[K     |████████████████████████████    | 71 kB 5.6 MB/s eta 0:00:01\r\u001b[K     |███████████████████████████████▉| 81 kB 6.2 MB/s eta 0:00:01\r\u001b[K     |████████████████████████████████| 82 kB 334 kB/s \n",
            "\u001b[?25hRequirement already satisfied: scikit-learn>=0.20.0 in /usr/local/lib/python3.7/dist-packages (from category_encoders) (1.0.1)\n",
            "Requirement already satisfied: statsmodels>=0.9.0 in /usr/local/lib/python3.7/dist-packages (from category_encoders) (0.10.2)\n",
            "Requirement already satisfied: patsy>=0.5.1 in /usr/local/lib/python3.7/dist-packages (from category_encoders) (0.5.2)\n",
            "Requirement already satisfied: pandas>=0.21.1 in /usr/local/lib/python3.7/dist-packages (from category_encoders) (1.1.5)\n",
            "Requirement already satisfied: scipy>=1.0.0 in /usr/local/lib/python3.7/dist-packages (from category_encoders) (1.4.1)\n",
            "Requirement already satisfied: numpy>=1.14.0 in /usr/local/lib/python3.7/dist-packages (from category_encoders) (1.19.5)\n",
            "Requirement already satisfied: python-dateutil>=2.7.3 in /usr/local/lib/python3.7/dist-packages (from pandas>=0.21.1->category_encoders) (2.8.2)\n",
            "Requirement already satisfied: pytz>=2017.2 in /usr/local/lib/python3.7/dist-packages (from pandas>=0.21.1->category_encoders) (2018.9)\n",
            "Requirement already satisfied: six in /usr/local/lib/python3.7/dist-packages (from patsy>=0.5.1->category_encoders) (1.15.0)\n",
            "Requirement already satisfied: threadpoolctl>=2.0.0 in /usr/local/lib/python3.7/dist-packages (from scikit-learn>=0.20.0->category_encoders) (3.0.0)\n",
            "Requirement already satisfied: joblib>=0.11 in /usr/local/lib/python3.7/dist-packages (from scikit-learn>=0.20.0->category_encoders) (1.1.0)\n",
            "Installing collected packages: category-encoders\n",
            "Successfully installed category-encoders-2.3.0\n"
          ]
        }
      ]
    },
    {
      "cell_type": "code",
      "source": [
        "from sklearn.model_selection import train_test_split\n",
        "from category_encoders import TargetEncoder\n",
        "from sklearn.linear_model import LinearRegression\n",
        "from sklearn.pipeline import make_pipeline\n",
        "from sklearn.preprocessing import StandardScaler"
      ],
      "metadata": {
        "colab": {
          "base_uri": "https://localhost:8080/"
        },
        "id": "1XOe1W5KpDAY",
        "outputId": "f6359c4a-090e-4d8f-a685-2857f487b966"
      },
      "execution_count": 58,
      "outputs": [
        {
          "output_type": "stream",
          "name": "stderr",
          "text": [
            "/usr/local/lib/python3.7/dist-packages/statsmodels/tools/_testing.py:19: FutureWarning: pandas.util.testing is deprecated. Use the functions in the public API at pandas.testing instead.\n",
            "  import pandas.util.testing as tm\n"
          ]
        }
      ]
    },
    {
      "cell_type": "code",
      "source": [
        "train, val = train_test_split(lie_data, test_size=0.2)\n",
        "target = 'ecg'\n",
        "features = train.drop(columns=[target, 'bpm']).columns\n",
        "\n",
        "X_train = train[features]\n",
        "y_train = train[target]\n",
        "X_val = val[features]\n",
        "y_val = val[target]"
      ],
      "metadata": {
        "id": "9iWnPnVmeE62"
      },
      "execution_count": 75,
      "outputs": []
    },
    {
      "cell_type": "code",
      "source": [
        "print(X_train.shape)\n",
        "print(y_train.shape)\n",
        "print(X_val.shape)\n",
        "print(y_val.shape)"
      ],
      "metadata": {
        "colab": {
          "base_uri": "https://localhost:8080/"
        },
        "id": "b9iua6crpG0y",
        "outputId": "26f52a9e-4ae3-4f5c-f8ed-2afdc6afb4cd"
      },
      "execution_count": 76,
      "outputs": [
        {
          "output_type": "stream",
          "name": "stdout",
          "text": [
            "(121920, 14)\n",
            "(121920,)\n",
            "(30480, 14)\n",
            "(30480,)\n"
          ]
        }
      ]
    },
    {
      "cell_type": "code",
      "source": [
        "linear = make_pipeline(\n",
        "    LinearRegression()\n",
        ")\n",
        "linear.fit(X_train, y_train)\n",
        "print('훈련 정확도', linear.score(X_train, y_train))\n",
        "print('검증 정확도', linear.score(X_test, y_test))\n"
      ],
      "metadata": {
        "colab": {
          "base_uri": "https://localhost:8080/"
        },
        "id": "gUGsH0wzpWYA",
        "outputId": "e8100bb3-4569-4880-c307-5827c44bc8ee"
      },
      "execution_count": 77,
      "outputs": [
        {
          "output_type": "stream",
          "name": "stdout",
          "text": [
            "훈련 정확도 0.4195199485399458\n",
            "검증 정확도 0.43107528436995124\n"
          ]
        }
      ]
    },
    {
      "cell_type": "code",
      "source": [
        "coefficients = linear.named_steps['linearregression'].coef_\n",
        "pd.Series(coefficients, features)"
      ],
      "metadata": {
        "colab": {
          "base_uri": "https://localhost:8080/"
        },
        "id": "a6bjvwvgrAL1",
        "outputId": "861ac99f-8608-4d0f-f26a-a1c74b8faee0"
      },
      "execution_count": 78,
      "outputs": [
        {
          "output_type": "execute_result",
          "data": {
            "text/plain": [
              "Unnamed: 0      -0.000565\n",
              "bin-2            0.057841\n",
              "bin-1            0.067388\n",
              "bin0            -0.003844\n",
              "bin1             0.043874\n",
              "bin2            -0.020027\n",
              "512fft          -0.003844\n",
              "400fft           0.007286\n",
              "300fft           0.008346\n",
              "200fft           0.004709\n",
              "100fft           0.003848\n",
              "70fft            0.009242\n",
              "bin_var          0.219587\n",
              "motion_energy    1.027453\n",
              "dtype: float64"
            ]
          },
          "metadata": {},
          "execution_count": 78
        }
      ]
    },
    {
      "cell_type": "markdown",
      "source": [
        "### linear regression (+)"
      ],
      "metadata": {
        "id": "CdZ9wpXirnpY"
      }
    },
    {
      "cell_type": "code",
      "source": [
        ""
      ],
      "metadata": {
        "id": "6Uuf3L1arq7z"
      },
      "execution_count": 78,
      "outputs": []
    },
    {
      "cell_type": "markdown",
      "source": [
        "### Random forest regressor"
      ],
      "metadata": {
        "id": "LfWbNLZHsJq8"
      }
    },
    {
      "cell_type": "markdown",
      "source": [
        "A random forest classifier works with data having discrete labels or better known as class. \n",
        "\n",
        "Example- A patient is suffering from cancer or not, a person is eligible for a loan or not, etc.\n",
        "A random forest regressor works with data having a numeric or continuous output and they cannot be defined by classes.\n",
        "Example- the price of houses, milk production of cows, the gross income of companies, etc."
      ],
      "metadata": {
        "id": "3kf3y3Gfsoy0"
      }
    },
    {
      "cell_type": "code",
      "source": [
        "from category_encoders import TargetEncoder\n",
        "from sklearn.impute import SimpleImputer\n",
        "from sklearn.ensemble import RandomForestRegressor"
      ],
      "metadata": {
        "id": "K9qeS8aZsV4q"
      },
      "execution_count": 79,
      "outputs": []
    },
    {
      "cell_type": "code",
      "source": [
        "#이는 AI03기 분꺼 그대로 베껴온것 (심지어 파라미터 설정까지)\n",
        "rfregressor = make_pipeline(\n",
        "    TargetEncoder(smoothing=150.0),\n",
        "    SimpleImputer(),\n",
        "    StandardScaler(),\n",
        "    RandomForestRegressor(n_estimators=200, max_depth=14, random_state=1)\n",
        ")\n",
        "\n",
        "rfregressor.fit(X_train, y_train)\n",
        "\n",
        "print('훈련 정확도', rfregressor.score(X_train, y_train))\n",
        "print('검증 정확도', rfregressor.score(X_val, y_val))"
      ],
      "metadata": {
        "colab": {
          "base_uri": "https://localhost:8080/"
        },
        "id": "3ekNy30RsSvB",
        "outputId": "784c5eba-c83a-4117-ffa7-eb0987eea9f1"
      },
      "execution_count": 80,
      "outputs": [
        {
          "output_type": "stream",
          "name": "stdout",
          "text": [
            "훈련 정확도 0.9688335992880336\n",
            "검증 정확도 0.9648257407146933\n"
          ]
        }
      ]
    },
    {
      "cell_type": "markdown",
      "source": [
        ""
      ],
      "metadata": {
        "id": "jHH_GD5vsSLU"
      }
    },
    {
      "cell_type": "markdown",
      "source": [
        "## 4. 모델링 (결과)\n"
      ],
      "metadata": {
        "id": "b8sEXWQVJLIy"
      }
    },
    {
      "cell_type": "code",
      "source": [
        ""
      ],
      "metadata": {
        "id": "7GI2ykxLb7VF"
      },
      "execution_count": 80,
      "outputs": []
    },
    {
      "cell_type": "markdown",
      "source": [
        "## 5. 모델링 (개선점)\n"
      ],
      "metadata": {
        "id": "3tOJ0FO0JLP4"
      }
    },
    {
      "cell_type": "markdown",
      "source": [
        "- Log Transform \n",
        "- RandomForestRegressor\n",
        "- Hyperparameter tuning\n"
      ],
      "metadata": {
        "id": "abJXnFHkJzUH"
      }
    },
    {
      "cell_type": "markdown",
      "source": [
        "## 6. 모델링 (최고 성능 모델 뽑기!)"
      ],
      "metadata": {
        "id": "8E3zZcHPJLWO"
      }
    },
    {
      "cell_type": "markdown",
      "source": [
        ""
      ],
      "metadata": {
        "id": "oLXzOiwwJLcE"
      }
    },
    {
      "cell_type": "code",
      "source": [
        ""
      ],
      "metadata": {
        "id": "Qx4c9rG5DeGn"
      },
      "execution_count": 80,
      "outputs": []
    },
    {
      "cell_type": "markdown",
      "source": [
        ""
      ],
      "metadata": {
        "id": "TToy3D3LJXey"
      }
    }
  ]
}